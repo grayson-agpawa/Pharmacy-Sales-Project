{
 "cells": [
  {
   "cell_type": "markdown",
   "metadata": {},
   "source": [
    "### **Intro** <br/>\n",
    "This analysis project aims to identify trends and patterns in pharmacy sales data. It involves a simple process I learned during my Professional Google Data Analytics Course to accurately assess data. The following steps outline how I analyzed this data, providing data-driven decision-making insights for the pharmacy company!"
   ]
  },
  {
   "cell_type": "markdown",
   "metadata": {},
   "source": [
    "### **Step 1. Cleaning Data**"
   ]
  },
  {
   "cell_type": "markdown",
   "metadata": {},
   "source": [
    "We will start by taking the Pharmacy Data and cleaning it by:\n",
    "- Removing duplicates\n",
    "- Formatting column cells to proper Currency or Number\n",
    "- Excecuting =TRIM() to cut out unnecessary spaces in cells\n",
    "- Excecuting =PROPER() to properly format text in each column\n",
    "- Excluding unnecessary columns irrelevant to analysis: Product Review, Description of Product, Unnecessary ratings, and too much variety in Customer Location column\n",
    "- Fitting data into a table to make it look nicer!"
   ]
  },
  {
   "cell_type": "markdown",
   "metadata": {},
   "source": [
    "**Before:**\n",
    "<img src=\"images/Before Table.png\">"
   ]
  },
  {
   "cell_type": "markdown",
   "metadata": {},
   "source": [
    "**After:**\n",
    "<img src=\"images/Excel Table.png\">"
   ]
  },
  {
   "cell_type": "markdown",
   "metadata": {},
   "source": [
    "### **Step 2. Analyze Data through Charts**"
   ]
  },
  {
   "cell_type": "markdown",
   "metadata": {},
   "source": [
    "**After the data is cleaned we can finally start to find Trends and Patterns in data!**"
   ]
  },
  {
   "cell_type": "markdown",
   "metadata": {},
   "source": [
    "#### **Number of Sales Per Gender**"
   ]
  },
  {
   "cell_type": "markdown",
   "metadata": {},
   "source": [
    "<img src='images/Pie Chart.png' width='400'>"
   ]
  },
  {
   "cell_type": "markdown",
   "metadata": {},
   "source": [
    "**Analysis:** <br> \n",
    "Here we put together the percentage of total sales divided by gender. Most of the sales were mainly bought by females. Using this information we can target products and brands to the main demographic. This can further the increase of sales over time through the pharmacy."
   ]
  },
  {
   "cell_type": "markdown",
   "metadata": {},
   "source": [
    "<img src='images/Top Sales.png'>"
   ]
  },
  {
   "cell_type": "markdown",
   "metadata": {},
   "source": [
    "<img src='images/Number of Sales.png' width='300'>"
   ]
  },
  {
   "cell_type": "markdown",
   "metadata": {},
   "source": [
    "**Analysis:** <br/>\n",
    "We put together here the total sales, both total price and count of sales, per product category. With this insight we can find which products are selling the best. According to the analysis we see Body Moisturisers are the top selling category. Sales total at a whopping $17K doubled compared to the runner up. We can use this evidence to keep stock of inventory while also targeting the female demographic through advertisement!"
   ]
  },
  {
   "cell_type": "markdown",
   "metadata": {},
   "source": [
    "<img src='images/Top Rating.png' width='600'>"
   ]
  },
  {
   "cell_type": "markdown",
   "metadata": {},
   "source": [
    "**Analysis:** <br/> \n",
    "By calculating the sum total of customer ratings per brand, we can identify the customer's favorite purchased brands. Narrowing it down to our top 5, we find that Bioderma is the leading brand that most customers prefer. We can use this conclusion to further promote the most liked brands to new customers and repeat customers!"
   ]
  },
  {
   "cell_type": "markdown",
   "metadata": {},
   "source": [
    "### **Step 3. Share Data Analysis**"
   ]
  },
  {
   "cell_type": "markdown",
   "metadata": {},
   "source": [
    "**Here we finish the completed charts in a single dashboard concluding the whole analysis!**"
   ]
  },
  {
   "cell_type": "markdown",
   "metadata": {},
   "source": [
    "<img src='images/Dashboard.png'>"
   ]
  }
 ],
 "metadata": {
  "kernelspec": {
   "display_name": "Python 3",
   "language": "python",
   "name": "python3"
  },
  "language_info": {
   "codemirror_mode": {
    "name": "ipython",
    "version": 3
   },
   "file_extension": ".py",
   "mimetype": "text/x-python",
   "name": "python",
   "nbconvert_exporter": "python",
   "pygments_lexer": "ipython3",
   "version": "3.10.6"
  }
 },
 "nbformat": 4,
 "nbformat_minor": 2
}
